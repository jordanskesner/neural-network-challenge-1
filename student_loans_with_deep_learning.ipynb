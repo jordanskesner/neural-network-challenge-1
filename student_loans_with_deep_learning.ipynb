{
 "cells": [
  {
   "cell_type": "markdown",
   "metadata": {
    "id": "T7ZNhGcW6q6r"
   },
   "source": [
    "# Student Loan Risk with Deep Learning"
   ]
  },
  {
   "cell_type": "code",
   "execution_count": 1,
   "metadata": {},
   "outputs": [
    {
     "name": "stdout",
     "output_type": "stream",
     "text": [
      "Collecting tensorflow\n",
      "  Downloading tensorflow-2.18.0-cp310-cp310-win_amd64.whl.metadata (3.3 kB)\n",
      "Collecting tensorflow-intel==2.18.0 (from tensorflow)\n",
      "  Downloading tensorflow_intel-2.18.0-cp310-cp310-win_amd64.whl.metadata (4.9 kB)\n",
      "Collecting absl-py>=1.0.0 (from tensorflow-intel==2.18.0->tensorflow)\n",
      "  Downloading absl_py-2.1.0-py3-none-any.whl.metadata (2.3 kB)\n",
      "Collecting astunparse>=1.6.0 (from tensorflow-intel==2.18.0->tensorflow)\n",
      "  Downloading astunparse-1.6.3-py2.py3-none-any.whl.metadata (4.4 kB)\n",
      "Collecting flatbuffers>=24.3.25 (from tensorflow-intel==2.18.0->tensorflow)\n",
      "  Downloading flatbuffers-24.12.23-py2.py3-none-any.whl.metadata (876 bytes)\n",
      "Collecting gast!=0.5.0,!=0.5.1,!=0.5.2,>=0.2.1 (from tensorflow-intel==2.18.0->tensorflow)\n",
      "  Downloading gast-0.6.0-py3-none-any.whl.metadata (1.3 kB)\n",
      "Collecting google-pasta>=0.1.1 (from tensorflow-intel==2.18.0->tensorflow)\n",
      "  Downloading google_pasta-0.2.0-py3-none-any.whl.metadata (814 bytes)\n",
      "Collecting libclang>=13.0.0 (from tensorflow-intel==2.18.0->tensorflow)\n",
      "  Downloading libclang-18.1.1-py2.py3-none-win_amd64.whl.metadata (5.3 kB)\n",
      "Collecting opt-einsum>=2.3.2 (from tensorflow-intel==2.18.0->tensorflow)\n",
      "  Downloading opt_einsum-3.4.0-py3-none-any.whl.metadata (6.3 kB)\n",
      "Requirement already satisfied: packaging in c:\\users\\jsk33\\appdata\\local\\programs\\python\\python310\\lib\\site-packages (from tensorflow-intel==2.18.0->tensorflow) (24.2)\n",
      "Collecting protobuf!=4.21.0,!=4.21.1,!=4.21.2,!=4.21.3,!=4.21.4,!=4.21.5,<6.0.0dev,>=3.20.3 (from tensorflow-intel==2.18.0->tensorflow)\n",
      "  Downloading protobuf-5.29.2-cp310-abi3-win_amd64.whl.metadata (592 bytes)\n",
      "Requirement already satisfied: requests<3,>=2.21.0 in c:\\users\\jsk33\\appdata\\local\\programs\\python\\python310\\lib\\site-packages (from tensorflow-intel==2.18.0->tensorflow) (2.32.3)\n",
      "Requirement already satisfied: setuptools in c:\\users\\jsk33\\appdata\\local\\programs\\python\\python310\\lib\\site-packages (from tensorflow-intel==2.18.0->tensorflow) (57.4.0)\n",
      "Requirement already satisfied: six>=1.12.0 in c:\\users\\jsk33\\appdata\\local\\programs\\python\\python310\\lib\\site-packages (from tensorflow-intel==2.18.0->tensorflow) (1.17.0)\n",
      "Collecting termcolor>=1.1.0 (from tensorflow-intel==2.18.0->tensorflow)\n",
      "  Downloading termcolor-2.5.0-py3-none-any.whl.metadata (6.1 kB)\n",
      "Requirement already satisfied: typing-extensions>=3.6.6 in c:\\users\\jsk33\\appdata\\local\\programs\\python\\python310\\lib\\site-packages (from tensorflow-intel==2.18.0->tensorflow) (4.12.2)\n",
      "Collecting wrapt>=1.11.0 (from tensorflow-intel==2.18.0->tensorflow)\n",
      "  Downloading wrapt-1.17.0-cp310-cp310-win_amd64.whl.metadata (6.5 kB)\n",
      "Collecting grpcio<2.0,>=1.24.3 (from tensorflow-intel==2.18.0->tensorflow)\n",
      "  Downloading grpcio-1.68.1-cp310-cp310-win_amd64.whl.metadata (4.0 kB)\n",
      "Collecting tensorboard<2.19,>=2.18 (from tensorflow-intel==2.18.0->tensorflow)\n",
      "  Downloading tensorboard-2.18.0-py3-none-any.whl.metadata (1.6 kB)\n",
      "Collecting keras>=3.5.0 (from tensorflow-intel==2.18.0->tensorflow)\n",
      "  Downloading keras-3.7.0-py3-none-any.whl.metadata (5.8 kB)\n",
      "Collecting numpy<2.1.0,>=1.26.0 (from tensorflow-intel==2.18.0->tensorflow)\n",
      "  Downloading numpy-2.0.2-cp310-cp310-win_amd64.whl.metadata (59 kB)\n",
      "Collecting h5py>=3.11.0 (from tensorflow-intel==2.18.0->tensorflow)\n",
      "  Downloading h5py-3.12.1-cp310-cp310-win_amd64.whl.metadata (2.5 kB)\n",
      "Collecting ml-dtypes<0.5.0,>=0.4.0 (from tensorflow-intel==2.18.0->tensorflow)\n",
      "  Downloading ml_dtypes-0.4.1-cp310-cp310-win_amd64.whl.metadata (20 kB)\n",
      "Collecting tensorflow-io-gcs-filesystem>=0.23.1 (from tensorflow-intel==2.18.0->tensorflow)\n",
      "  Downloading tensorflow_io_gcs_filesystem-0.31.0-cp310-cp310-win_amd64.whl.metadata (14 kB)\n",
      "Collecting wheel<1.0,>=0.23.0 (from astunparse>=1.6.0->tensorflow-intel==2.18.0->tensorflow)\n",
      "  Using cached wheel-0.45.1-py3-none-any.whl.metadata (2.3 kB)\n",
      "Collecting rich (from keras>=3.5.0->tensorflow-intel==2.18.0->tensorflow)\n",
      "  Downloading rich-13.9.4-py3-none-any.whl.metadata (18 kB)\n",
      "Collecting namex (from keras>=3.5.0->tensorflow-intel==2.18.0->tensorflow)\n",
      "  Downloading namex-0.0.8-py3-none-any.whl.metadata (246 bytes)\n",
      "Collecting optree (from keras>=3.5.0->tensorflow-intel==2.18.0->tensorflow)\n",
      "  Downloading optree-0.13.1-cp310-cp310-win_amd64.whl.metadata (48 kB)\n",
      "Requirement already satisfied: charset-normalizer<4,>=2 in c:\\users\\jsk33\\appdata\\local\\programs\\python\\python310\\lib\\site-packages (from requests<3,>=2.21.0->tensorflow-intel==2.18.0->tensorflow) (3.4.1)\n",
      "Requirement already satisfied: idna<4,>=2.5 in c:\\users\\jsk33\\appdata\\local\\programs\\python\\python310\\lib\\site-packages (from requests<3,>=2.21.0->tensorflow-intel==2.18.0->tensorflow) (3.10)\n",
      "Requirement already satisfied: urllib3<3,>=1.21.1 in c:\\users\\jsk33\\appdata\\local\\programs\\python\\python310\\lib\\site-packages (from requests<3,>=2.21.0->tensorflow-intel==2.18.0->tensorflow) (2.3.0)\n",
      "Requirement already satisfied: certifi>=2017.4.17 in c:\\users\\jsk33\\appdata\\local\\programs\\python\\python310\\lib\\site-packages (from requests<3,>=2.21.0->tensorflow-intel==2.18.0->tensorflow) (2024.12.14)\n",
      "Collecting markdown>=2.6.8 (from tensorboard<2.19,>=2.18->tensorflow-intel==2.18.0->tensorflow)\n",
      "  Downloading Markdown-3.7-py3-none-any.whl.metadata (7.0 kB)\n",
      "Collecting tensorboard-data-server<0.8.0,>=0.7.0 (from tensorboard<2.19,>=2.18->tensorflow-intel==2.18.0->tensorflow)\n",
      "  Downloading tensorboard_data_server-0.7.2-py3-none-any.whl.metadata (1.1 kB)\n",
      "Collecting werkzeug>=1.0.1 (from tensorboard<2.19,>=2.18->tensorflow-intel==2.18.0->tensorflow)\n",
      "  Downloading werkzeug-3.1.3-py3-none-any.whl.metadata (3.7 kB)\n",
      "Requirement already satisfied: MarkupSafe>=2.1.1 in c:\\users\\jsk33\\appdata\\local\\programs\\python\\python310\\lib\\site-packages (from werkzeug>=1.0.1->tensorboard<2.19,>=2.18->tensorflow-intel==2.18.0->tensorflow) (3.0.2)\n",
      "Collecting markdown-it-py>=2.2.0 (from rich->keras>=3.5.0->tensorflow-intel==2.18.0->tensorflow)\n",
      "  Downloading markdown_it_py-3.0.0-py3-none-any.whl.metadata (6.9 kB)\n",
      "Requirement already satisfied: pygments<3.0.0,>=2.13.0 in c:\\users\\jsk33\\appdata\\local\\programs\\python\\python310\\lib\\site-packages (from rich->keras>=3.5.0->tensorflow-intel==2.18.0->tensorflow) (2.18.0)\n",
      "Collecting mdurl~=0.1 (from markdown-it-py>=2.2.0->rich->keras>=3.5.0->tensorflow-intel==2.18.0->tensorflow)\n",
      "  Downloading mdurl-0.1.2-py3-none-any.whl.metadata (1.6 kB)\n",
      "Downloading tensorflow-2.18.0-cp310-cp310-win_amd64.whl (7.5 kB)\n",
      "Downloading tensorflow_intel-2.18.0-cp310-cp310-win_amd64.whl (390.0 MB)\n",
      "   ---------------------------------------- 0.0/390.0 MB ? eta -:--:--\n",
      "   ---------------------------------------- 1.0/390.0 MB 17.1 MB/s eta 0:00:23\n",
      "   ---------------------------------------- 1.0/390.0 MB 17.1 MB/s eta 0:00:23\n",
      "   ---------------------------------------- 3.4/390.0 MB 5.4 MB/s eta 0:01:12\n",
      "    --------------------------------------- 6.3/390.0 MB 7.6 MB/s eta 0:00:51\n",
      "    --------------------------------------- 8.9/390.0 MB 8.7 MB/s eta 0:00:45\n",
      "   - -------------------------------------- 12.3/390.0 MB 9.9 MB/s eta 0:00:39\n",
      "   - -------------------------------------- 16.0/390.0 MB 10.9 MB/s eta 0:00:35\n",
      "   - -------------------------------------- 19.1/390.0 MB 11.6 MB/s eta 0:00:32\n",
      "   -- ------------------------------------- 22.3/390.0 MB 12.0 MB/s eta 0:00:31\n",
      "   -- ------------------------------------- 26.0/390.0 MB 12.5 MB/s eta 0:00:30\n",
      "   -- ------------------------------------- 28.6/390.0 MB 12.7 MB/s eta 0:00:29\n",
      "   --- ------------------------------------ 31.5/390.0 MB 12.6 MB/s eta 0:00:29\n",
      "   --- ------------------------------------ 34.3/390.0 MB 12.8 MB/s eta 0:00:28\n",
      "   --- ------------------------------------ 36.7/390.0 MB 12.9 MB/s eta 0:00:28\n",
      "   ---- ----------------------------------- 39.8/390.0 MB 12.8 MB/s eta 0:00:28\n",
      "   ---- ----------------------------------- 43.0/390.0 MB 12.9 MB/s eta 0:00:27\n",
      "   ---- ----------------------------------- 43.0/390.0 MB 12.9 MB/s eta 0:00:27\n",
      "   ---- ----------------------------------- 43.0/390.0 MB 12.9 MB/s eta 0:00:27\n",
      "   ---- ----------------------------------- 44.6/390.0 MB 11.3 MB/s eta 0:00:31\n",
      "   ---- ----------------------------------- 47.7/390.0 MB 11.5 MB/s eta 0:00:30\n",
      "   ----- ---------------------------------- 50.6/390.0 MB 11.5 MB/s eta 0:00:30\n",
      "   ----- ---------------------------------- 53.5/390.0 MB 11.7 MB/s eta 0:00:29\n",
      "   ----- ---------------------------------- 56.4/390.0 MB 11.8 MB/s eta 0:00:29\n",
      "   ------ --------------------------------- 59.5/390.0 MB 11.9 MB/s eta 0:00:28\n",
      "   ------ --------------------------------- 62.4/390.0 MB 12.0 MB/s eta 0:00:28\n",
      "   ------ --------------------------------- 65.0/390.0 MB 12.0 MB/s eta 0:00:28\n",
      "   ------ --------------------------------- 67.9/390.0 MB 12.1 MB/s eta 0:00:27\n",
      "   ------- -------------------------------- 70.8/390.0 MB 12.1 MB/s eta 0:00:27\n",
      "   ------- -------------------------------- 73.4/390.0 MB 12.1 MB/s eta 0:00:27\n",
      "   ------- -------------------------------- 74.4/390.0 MB 12.1 MB/s eta 0:00:26\n",
      "   ------- -------------------------------- 74.4/390.0 MB 12.1 MB/s eta 0:00:26\n",
      "   ------- -------------------------------- 76.5/390.0 MB 11.5 MB/s eta 0:00:28\n",
      "   -------- ------------------------------- 79.2/390.0 MB 11.5 MB/s eta 0:00:28\n",
      "   -------- ------------------------------- 81.8/390.0 MB 11.6 MB/s eta 0:00:27\n",
      "   -------- ------------------------------- 84.9/390.0 MB 11.6 MB/s eta 0:00:27\n",
      "   -------- ------------------------------- 87.6/390.0 MB 11.7 MB/s eta 0:00:26\n",
      "   --------- ------------------------------ 90.7/390.0 MB 11.7 MB/s eta 0:00:26\n",
      "   --------- ------------------------------ 93.6/390.0 MB 11.8 MB/s eta 0:00:26\n",
      "   --------- ------------------------------ 96.5/390.0 MB 11.9 MB/s eta 0:00:25\n",
      "   ---------- ----------------------------- 99.1/390.0 MB 11.9 MB/s eta 0:00:25\n",
      "   ---------- ---------------------------- 102.0/390.0 MB 11.9 MB/s eta 0:00:25\n",
      "   ---------- ---------------------------- 104.6/390.0 MB 12.0 MB/s eta 0:00:24\n",
      "   ---------- ---------------------------- 107.7/390.0 MB 12.0 MB/s eta 0:00:24\n",
      "   ---------- ---------------------------- 109.8/390.0 MB 12.0 MB/s eta 0:00:24\n",
      "   ----------- --------------------------- 112.7/390.0 MB 12.0 MB/s eta 0:00:24\n",
      "   ----------- --------------------------- 115.6/390.0 MB 12.1 MB/s eta 0:00:23\n",
      "   ----------- --------------------------- 118.8/390.0 MB 12.1 MB/s eta 0:00:23\n",
      "   ------------ -------------------------- 122.2/390.0 MB 12.2 MB/s eta 0:00:22\n",
      "   ------------ -------------------------- 125.0/390.0 MB 12.2 MB/s eta 0:00:22\n",
      "   ------------ -------------------------- 128.2/390.0 MB 12.3 MB/s eta 0:00:22\n",
      "   ------------- ------------------------- 131.1/390.0 MB 12.3 MB/s eta 0:00:22\n",
      "   ------------- ------------------------- 133.7/390.0 MB 12.3 MB/s eta 0:00:21\n",
      "   ------------- ------------------------- 136.6/390.0 MB 12.4 MB/s eta 0:00:21\n",
      "   ------------- ------------------------- 139.5/390.0 MB 12.4 MB/s eta 0:00:21\n",
      "   -------------- ------------------------ 142.1/390.0 MB 12.4 MB/s eta 0:00:21\n",
      "   -------------- ------------------------ 144.7/390.0 MB 12.4 MB/s eta 0:00:20\n",
      "   -------------- ------------------------ 144.7/390.0 MB 12.4 MB/s eta 0:00:20\n",
      "   -------------- ------------------------ 146.8/390.0 MB 12.1 MB/s eta 0:00:21\n",
      "   -------------- ------------------------ 149.7/390.0 MB 12.2 MB/s eta 0:00:20\n",
      "   --------------- ----------------------- 152.6/390.0 MB 12.1 MB/s eta 0:00:20\n",
      "   --------------- ----------------------- 155.2/390.0 MB 12.2 MB/s eta 0:00:20\n",
      "   --------------- ----------------------- 157.3/390.0 MB 12.1 MB/s eta 0:00:20\n",
      "   --------------- ----------------------- 159.1/390.0 MB 12.1 MB/s eta 0:00:20\n",
      "   ---------------- ---------------------- 161.7/390.0 MB 12.1 MB/s eta 0:00:19\n",
      "   ---------------- ---------------------- 164.6/390.0 MB 12.1 MB/s eta 0:00:19\n",
      "   ---------------- ---------------------- 167.0/390.0 MB 12.1 MB/s eta 0:00:19\n",
      "   ---------------- ---------------------- 169.9/390.0 MB 12.1 MB/s eta 0:00:19\n",
      "   ----------------- --------------------- 172.5/390.0 MB 12.1 MB/s eta 0:00:18\n",
      "   ----------------- --------------------- 175.4/390.0 MB 12.1 MB/s eta 0:00:18\n",
      "   ----------------- --------------------- 177.5/390.0 MB 12.1 MB/s eta 0:00:18\n",
      "   ------------------ -------------------- 180.4/390.0 MB 12.1 MB/s eta 0:00:18\n",
      "   ------------------ -------------------- 183.2/390.0 MB 12.2 MB/s eta 0:00:18\n",
      "   ------------------ -------------------- 186.4/390.0 MB 12.2 MB/s eta 0:00:17\n",
      "   ------------------ -------------------- 186.6/390.0 MB 12.2 MB/s eta 0:00:17\n",
      "   ------------------ -------------------- 186.6/390.0 MB 12.2 MB/s eta 0:00:17\n",
      "   ------------------ -------------------- 189.5/390.0 MB 11.9 MB/s eta 0:00:17\n",
      "   ------------------- ------------------- 192.2/390.0 MB 11.9 MB/s eta 0:00:17\n",
      "   ------------------- ------------------- 195.0/390.0 MB 11.9 MB/s eta 0:00:17\n",
      "   ------------------- ------------------- 195.0/390.0 MB 11.9 MB/s eta 0:00:17\n",
      "   ------------------- ------------------- 195.0/390.0 MB 11.9 MB/s eta 0:00:17\n",
      "   ------------------- ------------------- 196.3/390.0 MB 11.6 MB/s eta 0:00:17\n",
      "   ------------------- ------------------- 199.2/390.0 MB 11.6 MB/s eta 0:00:17\n",
      "   -------------------- ------------------ 200.3/390.0 MB 11.6 MB/s eta 0:00:17\n",
      "   -------------------- ------------------ 201.6/390.0 MB 11.5 MB/s eta 0:00:17\n",
      "   -------------------- ------------------ 204.5/390.0 MB 11.5 MB/s eta 0:00:17\n",
      "   -------------------- ------------------ 207.4/390.0 MB 11.5 MB/s eta 0:00:16\n",
      "   --------------------- ----------------- 210.2/390.0 MB 11.5 MB/s eta 0:00:16\n",
      "   --------------------- ----------------- 213.6/390.0 MB 11.6 MB/s eta 0:00:16\n",
      "   --------------------- ----------------- 216.5/390.0 MB 11.6 MB/s eta 0:00:15\n",
      "   --------------------- ----------------- 219.4/390.0 MB 11.6 MB/s eta 0:00:15\n",
      "   ---------------------- ---------------- 222.3/390.0 MB 11.7 MB/s eta 0:00:15\n",
      "   ---------------------- ---------------- 224.4/390.0 MB 11.7 MB/s eta 0:00:15\n",
      "   ---------------------- ---------------- 227.0/390.0 MB 11.7 MB/s eta 0:00:14\n",
      "   ---------------------- ---------------- 229.9/390.0 MB 11.7 MB/s eta 0:00:14\n",
      "   ----------------------- --------------- 233.0/390.0 MB 11.7 MB/s eta 0:00:14\n",
      "   ----------------------- --------------- 236.2/390.0 MB 11.7 MB/s eta 0:00:14\n",
      "   ----------------------- --------------- 239.3/390.0 MB 11.8 MB/s eta 0:00:13\n",
      "   ------------------------ -------------- 242.2/390.0 MB 11.8 MB/s eta 0:00:13\n",
      "   ------------------------ -------------- 245.6/390.0 MB 11.8 MB/s eta 0:00:13\n",
      "   ------------------------ -------------- 248.3/390.0 MB 11.8 MB/s eta 0:00:12\n",
      "   ------------------------- ------------- 251.4/390.0 MB 11.9 MB/s eta 0:00:12\n",
      "   ------------------------- ------------- 253.5/390.0 MB 11.9 MB/s eta 0:00:12\n",
      "   ------------------------- ------------- 256.6/390.0 MB 11.9 MB/s eta 0:00:12\n",
      "   ------------------------- ------------- 259.5/390.0 MB 11.9 MB/s eta 0:00:11\n",
      "   -------------------------- ------------ 262.1/390.0 MB 11.9 MB/s eta 0:00:11\n",
      "   -------------------------- ------------ 265.0/390.0 MB 12.1 MB/s eta 0:00:11\n",
      "   -------------------------- ------------ 265.3/390.0 MB 12.1 MB/s eta 0:00:11\n",
      "   -------------------------- ------------ 265.3/390.0 MB 12.1 MB/s eta 0:00:11\n",
      "   -------------------------- ------------ 267.4/390.0 MB 11.9 MB/s eta 0:00:11\n",
      "   --------------------------- ----------- 270.8/390.0 MB 11.9 MB/s eta 0:00:11\n",
      "   --------------------------- ----------- 273.9/390.0 MB 11.9 MB/s eta 0:00:10\n",
      "   --------------------------- ----------- 277.1/390.0 MB 11.9 MB/s eta 0:00:10\n",
      "   ---------------------------- ---------- 280.2/390.0 MB 11.8 MB/s eta 0:00:10\n",
      "   ---------------------------- ---------- 283.1/390.0 MB 11.8 MB/s eta 0:00:10\n",
      "   ---------------------------- ---------- 285.5/390.0 MB 11.8 MB/s eta 0:00:09\n",
      "   ---------------------------- ---------- 288.4/390.0 MB 11.8 MB/s eta 0:00:09\n",
      "   ---------------------------- ---------- 288.4/390.0 MB 11.8 MB/s eta 0:00:09\n",
      "   ----------------------------- --------- 290.7/390.0 MB 11.6 MB/s eta 0:00:09\n",
      "   ----------------------------- --------- 293.9/390.0 MB 11.7 MB/s eta 0:00:09\n",
      "   ----------------------------- --------- 297.3/390.0 MB 11.7 MB/s eta 0:00:08\n",
      "   ------------------------------ -------- 300.2/390.0 MB 11.7 MB/s eta 0:00:08\n",
      "   ------------------------------ -------- 303.0/390.0 MB 11.7 MB/s eta 0:00:08\n",
      "   ------------------------------ -------- 306.2/390.0 MB 11.9 MB/s eta 0:00:08\n",
      "   ------------------------------ -------- 308.5/390.0 MB 11.9 MB/s eta 0:00:07\n",
      "   ------------------------------- ------- 311.4/390.0 MB 11.9 MB/s eta 0:00:07\n",
      "   ------------------------------- ------- 314.3/390.0 MB 11.9 MB/s eta 0:00:07\n",
      "   ------------------------------- ------- 317.7/390.0 MB 11.9 MB/s eta 0:00:07\n",
      "   -------------------------------- ------ 320.9/390.0 MB 11.9 MB/s eta 0:00:06\n",
      "   -------------------------------- ------ 324.0/390.0 MB 12.0 MB/s eta 0:00:06\n",
      "   -------------------------------- ------ 327.2/390.0 MB 12.0 MB/s eta 0:00:06\n",
      "   -------------------------------- ------ 329.8/390.0 MB 11.9 MB/s eta 0:00:06\n",
      "   --------------------------------- ----- 333.4/390.0 MB 12.0 MB/s eta 0:00:05\n",
      "   --------------------------------- ----- 337.1/390.0 MB 12.2 MB/s eta 0:00:05\n",
      "   ---------------------------------- ---- 340.8/390.0 MB 12.3 MB/s eta 0:00:05\n",
      "   ---------------------------------- ---- 341.8/390.0 MB 12.2 MB/s eta 0:00:04\n",
      "   ---------------------------------- ---- 341.8/390.0 MB 12.2 MB/s eta 0:00:04\n",
      "   ---------------------------------- ---- 341.8/390.0 MB 12.2 MB/s eta 0:00:04\n",
      "   ---------------------------------- ---- 342.9/390.0 MB 11.9 MB/s eta 0:00:04\n",
      "   ---------------------------------- ---- 346.3/390.0 MB 11.9 MB/s eta 0:00:04\n",
      "   ---------------------------------- ---- 349.4/390.0 MB 11.9 MB/s eta 0:00:04\n",
      "   ----------------------------------- --- 352.1/390.0 MB 11.9 MB/s eta 0:00:04\n",
      "   ----------------------------------- --- 352.8/390.0 MB 11.8 MB/s eta 0:00:04\n",
      "   ----------------------------------- --- 356.3/390.0 MB 11.8 MB/s eta 0:00:03\n",
      "   ----------------------------------- --- 359.4/390.0 MB 11.9 MB/s eta 0:00:03\n",
      "   ------------------------------------ -- 362.5/390.0 MB 11.9 MB/s eta 0:00:03\n",
      "   ------------------------------------ -- 365.4/390.0 MB 11.9 MB/s eta 0:00:03\n",
      "   ------------------------------------ -- 367.0/390.0 MB 11.9 MB/s eta 0:00:02\n",
      "   ------------------------------------- - 370.1/390.0 MB 11.8 MB/s eta 0:00:02\n",
      "   ------------------------------------- - 373.3/390.0 MB 11.9 MB/s eta 0:00:02\n",
      "   ------------------------------------- - 374.3/390.0 MB 11.8 MB/s eta 0:00:02\n",
      "   ------------------------------------- - 374.3/390.0 MB 11.8 MB/s eta 0:00:02\n",
      "   ------------------------------------- - 374.3/390.0 MB 11.8 MB/s eta 0:00:02\n",
      "   ------------------------------------- - 374.3/390.0 MB 11.8 MB/s eta 0:00:02\n",
      "   ------------------------------------- - 376.4/390.0 MB 11.5 MB/s eta 0:00:02\n",
      "   ------------------------------------- - 376.4/390.0 MB 11.5 MB/s eta 0:00:02\n",
      "   ------------------------------------- - 376.4/390.0 MB 11.5 MB/s eta 0:00:02\n",
      "   ------------------------------------- - 379.6/390.0 MB 11.2 MB/s eta 0:00:01\n",
      "   ------------------------------------- - 379.6/390.0 MB 11.2 MB/s eta 0:00:01\n",
      "   ------------------------------------- - 379.6/390.0 MB 11.2 MB/s eta 0:00:01\n",
      "   --------------------------------------  380.1/390.0 MB 11.0 MB/s eta 0:00:01\n",
      "   --------------------------------------  382.7/390.0 MB 10.9 MB/s eta 0:00:01\n",
      "   --------------------------------------  384.8/390.0 MB 10.9 MB/s eta 0:00:01\n",
      "   --------------------------------------  384.8/390.0 MB 10.9 MB/s eta 0:00:01\n",
      "   --------------------------------------  385.6/390.0 MB 10.7 MB/s eta 0:00:01\n",
      "   --------------------------------------  388.8/390.0 MB 10.7 MB/s eta 0:00:01\n",
      "   --------------------------------------  389.8/390.0 MB 10.8 MB/s eta 0:00:01\n",
      "   --------------------------------------  389.8/390.0 MB 10.8 MB/s eta 0:00:01\n",
      "   --------------------------------------  389.8/390.0 MB 10.8 MB/s eta 0:00:01\n",
      "   --------------------------------------  389.8/390.0 MB 10.8 MB/s eta 0:00:01\n",
      "   --------------------------------------- 390.0/390.0 MB 10.4 MB/s eta 0:00:00\n",
      "Downloading absl_py-2.1.0-py3-none-any.whl (133 kB)\n",
      "Downloading astunparse-1.6.3-py2.py3-none-any.whl (12 kB)\n",
      "Downloading flatbuffers-24.12.23-py2.py3-none-any.whl (30 kB)\n",
      "Downloading gast-0.6.0-py3-none-any.whl (21 kB)\n",
      "Downloading google_pasta-0.2.0-py3-none-any.whl (57 kB)\n",
      "Downloading grpcio-1.68.1-cp310-cp310-win_amd64.whl (4.4 MB)\n",
      "   ---------------------------------------- 0.0/4.4 MB ? eta -:--:--\n",
      "   -------------------------- ------------- 2.9/4.4 MB 13.9 MB/s eta 0:00:01\n",
      "   ---------------------------------------- 4.4/4.4 MB 13.9 MB/s eta 0:00:00\n",
      "Downloading h5py-3.12.1-cp310-cp310-win_amd64.whl (3.0 MB)\n",
      "   ---------------------------------------- 0.0/3.0 MB ? eta -:--:--\n",
      "   -------------------------------------- - 2.9/3.0 MB 15.2 MB/s eta 0:00:01\n",
      "   ---------------------------------------- 3.0/3.0 MB 13.4 MB/s eta 0:00:00\n",
      "Downloading keras-3.7.0-py3-none-any.whl (1.2 MB)\n",
      "   ---------------------------------------- 0.0/1.2 MB ? eta -:--:--\n",
      "   ---------------------------------------- 1.2/1.2 MB 10.3 MB/s eta 0:00:00\n",
      "Downloading libclang-18.1.1-py2.py3-none-win_amd64.whl (26.4 MB)\n",
      "   ---------------------------------------- 0.0/26.4 MB ? eta -:--:--\n",
      "   --- ------------------------------------ 2.6/26.4 MB 13.7 MB/s eta 0:00:02\n",
      "   -------- ------------------------------- 5.8/26.4 MB 14.1 MB/s eta 0:00:02\n",
      "   ------------ --------------------------- 8.4/26.4 MB 14.9 MB/s eta 0:00:02\n",
      "   ------------- -------------------------- 8.9/26.4 MB 11.1 MB/s eta 0:00:02\n",
      "   ------------------ --------------------- 12.3/26.4 MB 11.9 MB/s eta 0:00:02\n",
      "   ----------------------- ---------------- 15.7/26.4 MB 12.7 MB/s eta 0:00:01\n",
      "   ----------------------------- ---------- 19.4/26.4 MB 13.3 MB/s eta 0:00:01\n",
      "   ---------------------------------- ----- 22.5/26.4 MB 13.5 MB/s eta 0:00:01\n",
      "   -------------------------------------- - 25.7/26.4 MB 13.8 MB/s eta 0:00:01\n",
      "   ---------------------------------------- 26.4/26.4 MB 13.2 MB/s eta 0:00:00\n",
      "Downloading ml_dtypes-0.4.1-cp310-cp310-win_amd64.whl (126 kB)\n",
      "Downloading numpy-2.0.2-cp310-cp310-win_amd64.whl (15.9 MB)\n",
      "   ---------------------------------------- 0.0/15.9 MB ? eta -:--:--\n",
      "   ------- -------------------------------- 3.1/15.9 MB 15.4 MB/s eta 0:00:01\n",
      "   ---------------- ----------------------- 6.6/15.9 MB 15.5 MB/s eta 0:00:01\n",
      "   ------------------------- -------------- 10.0/15.9 MB 15.9 MB/s eta 0:00:01\n",
      "   -------------------------------- ------- 13.1/15.9 MB 15.8 MB/s eta 0:00:01\n",
      "   ---------------------------------------  15.7/15.9 MB 15.2 MB/s eta 0:00:01\n",
      "   ---------------------------------------- 15.9/15.9 MB 14.3 MB/s eta 0:00:00\n",
      "Downloading opt_einsum-3.4.0-py3-none-any.whl (71 kB)\n",
      "Downloading protobuf-5.29.2-cp310-abi3-win_amd64.whl (434 kB)\n",
      "Downloading tensorboard-2.18.0-py3-none-any.whl (5.5 MB)\n",
      "   ---------------------------------------- 0.0/5.5 MB ? eta -:--:--\n",
      "   ---------------------- ----------------- 3.1/5.5 MB 16.8 MB/s eta 0:00:01\n",
      "   ---------------------------------------- 5.5/5.5 MB 16.0 MB/s eta 0:00:00\n",
      "Downloading tensorflow_io_gcs_filesystem-0.31.0-cp310-cp310-win_amd64.whl (1.5 MB)\n",
      "   ---------------------------------------- 0.0/1.5 MB ? eta -:--:--\n",
      "   ---------------------------------------- 1.5/1.5 MB 19.4 MB/s eta 0:00:00\n",
      "Downloading termcolor-2.5.0-py3-none-any.whl (7.8 kB)\n",
      "Downloading wrapt-1.17.0-cp310-cp310-win_amd64.whl (38 kB)\n",
      "Downloading Markdown-3.7-py3-none-any.whl (106 kB)\n",
      "Downloading tensorboard_data_server-0.7.2-py3-none-any.whl (2.4 kB)\n",
      "Downloading werkzeug-3.1.3-py3-none-any.whl (224 kB)\n",
      "Using cached wheel-0.45.1-py3-none-any.whl (72 kB)\n",
      "Downloading namex-0.0.8-py3-none-any.whl (5.8 kB)\n",
      "Downloading optree-0.13.1-cp310-cp310-win_amd64.whl (282 kB)\n",
      "Downloading rich-13.9.4-py3-none-any.whl (242 kB)\n",
      "Downloading markdown_it_py-3.0.0-py3-none-any.whl (87 kB)\n",
      "Downloading mdurl-0.1.2-py3-none-any.whl (10.0 kB)\n",
      "Installing collected packages: namex, libclang, flatbuffers, wrapt, wheel, werkzeug, termcolor, tensorflow-io-gcs-filesystem, tensorboard-data-server, protobuf, optree, opt-einsum, numpy, mdurl, markdown, grpcio, google-pasta, gast, absl-py, tensorboard, ml-dtypes, markdown-it-py, h5py, astunparse, rich, keras, tensorflow-intel, tensorflow\n",
      "Successfully installed absl-py-2.1.0 astunparse-1.6.3 flatbuffers-24.12.23 gast-0.6.0 google-pasta-0.2.0 grpcio-1.68.1 h5py-3.12.1 keras-3.7.0 libclang-18.1.1 markdown-3.7 markdown-it-py-3.0.0 mdurl-0.1.2 ml-dtypes-0.4.1 namex-0.0.8 numpy-2.0.2 opt-einsum-3.4.0 optree-0.13.1 protobuf-5.29.2 rich-13.9.4 tensorboard-2.18.0 tensorboard-data-server-0.7.2 tensorflow-2.18.0 tensorflow-intel-2.18.0 tensorflow-io-gcs-filesystem-0.31.0 termcolor-2.5.0 werkzeug-3.1.3 wheel-0.45.1 wrapt-1.17.0\n",
      "Note: you may need to restart the kernel to use updated packages.\n"
     ]
    }
   ],
   "source": [
    "pip install tensorflow"
   ]
  },
  {
   "cell_type": "code",
   "execution_count": 5,
   "metadata": {
    "id": "0otrXpJc6q6u"
   },
   "outputs": [],
   "source": [
    "# Imports\n",
    "import pandas as pd\n",
    "import tensorflow as tf\n",
    "from tensorflow.keras.layers import Dense\n",
    "from tensorflow.keras.models import Sequential\n",
    "from sklearn.model_selection import train_test_split\n",
    "from sklearn.preprocessing import StandardScaler\n",
    "from sklearn.metrics import classification_report\n",
    "from pathlib import Path"
   ]
  },
  {
   "cell_type": "markdown",
   "metadata": {
    "id": "OpV4Y-3Z6q6w"
   },
   "source": [
    "---\n",
    "\n",
    "## Prepare the data to be used on a neural network model"
   ]
  },
  {
   "cell_type": "markdown",
   "metadata": {
    "id": "TUuSzp2l6q6w"
   },
   "source": [
    "### Step 1: Read the `student-loans.csv` file into a Pandas DataFrame. Review the DataFrame, looking for columns that could eventually define your features and target variables.   "
   ]
  },
  {
   "cell_type": "code",
   "execution_count": 6,
   "metadata": {
    "colab": {
     "base_uri": "https://localhost:8080/",
     "height": 226
    },
    "id": "G65km1KD6q6x",
    "outputId": "93d12d8d-c415-4017-8452-5b4966e4dde5"
   },
   "outputs": [
    {
     "data": {
      "text/html": [
       "<div>\n",
       "<style scoped>\n",
       "    .dataframe tbody tr th:only-of-type {\n",
       "        vertical-align: middle;\n",
       "    }\n",
       "\n",
       "    .dataframe tbody tr th {\n",
       "        vertical-align: top;\n",
       "    }\n",
       "\n",
       "    .dataframe thead th {\n",
       "        text-align: right;\n",
       "    }\n",
       "</style>\n",
       "<table border=\"1\" class=\"dataframe\">\n",
       "  <thead>\n",
       "    <tr style=\"text-align: right;\">\n",
       "      <th></th>\n",
       "      <th>payment_history</th>\n",
       "      <th>location_parameter</th>\n",
       "      <th>stem_degree_score</th>\n",
       "      <th>gpa_ranking</th>\n",
       "      <th>alumni_success</th>\n",
       "      <th>study_major_code</th>\n",
       "      <th>time_to_completion</th>\n",
       "      <th>finance_workshop_score</th>\n",
       "      <th>cohort_ranking</th>\n",
       "      <th>total_loan_score</th>\n",
       "      <th>financial_aid_score</th>\n",
       "      <th>credit_ranking</th>\n",
       "    </tr>\n",
       "  </thead>\n",
       "  <tbody>\n",
       "    <tr>\n",
       "      <th>0</th>\n",
       "      <td>7.4</td>\n",
       "      <td>0.70</td>\n",
       "      <td>0.00</td>\n",
       "      <td>1.9</td>\n",
       "      <td>0.076</td>\n",
       "      <td>11.0</td>\n",
       "      <td>34.0</td>\n",
       "      <td>0.9978</td>\n",
       "      <td>3.51</td>\n",
       "      <td>0.56</td>\n",
       "      <td>9.4</td>\n",
       "      <td>0</td>\n",
       "    </tr>\n",
       "    <tr>\n",
       "      <th>1</th>\n",
       "      <td>7.8</td>\n",
       "      <td>0.88</td>\n",
       "      <td>0.00</td>\n",
       "      <td>2.6</td>\n",
       "      <td>0.098</td>\n",
       "      <td>25.0</td>\n",
       "      <td>67.0</td>\n",
       "      <td>0.9968</td>\n",
       "      <td>3.20</td>\n",
       "      <td>0.68</td>\n",
       "      <td>9.8</td>\n",
       "      <td>0</td>\n",
       "    </tr>\n",
       "    <tr>\n",
       "      <th>2</th>\n",
       "      <td>7.8</td>\n",
       "      <td>0.76</td>\n",
       "      <td>0.04</td>\n",
       "      <td>2.3</td>\n",
       "      <td>0.092</td>\n",
       "      <td>15.0</td>\n",
       "      <td>54.0</td>\n",
       "      <td>0.9970</td>\n",
       "      <td>3.26</td>\n",
       "      <td>0.65</td>\n",
       "      <td>9.8</td>\n",
       "      <td>0</td>\n",
       "    </tr>\n",
       "    <tr>\n",
       "      <th>3</th>\n",
       "      <td>11.2</td>\n",
       "      <td>0.28</td>\n",
       "      <td>0.56</td>\n",
       "      <td>1.9</td>\n",
       "      <td>0.075</td>\n",
       "      <td>17.0</td>\n",
       "      <td>60.0</td>\n",
       "      <td>0.9980</td>\n",
       "      <td>3.16</td>\n",
       "      <td>0.58</td>\n",
       "      <td>9.8</td>\n",
       "      <td>1</td>\n",
       "    </tr>\n",
       "    <tr>\n",
       "      <th>4</th>\n",
       "      <td>7.4</td>\n",
       "      <td>0.70</td>\n",
       "      <td>0.00</td>\n",
       "      <td>1.9</td>\n",
       "      <td>0.076</td>\n",
       "      <td>11.0</td>\n",
       "      <td>34.0</td>\n",
       "      <td>0.9978</td>\n",
       "      <td>3.51</td>\n",
       "      <td>0.56</td>\n",
       "      <td>9.4</td>\n",
       "      <td>0</td>\n",
       "    </tr>\n",
       "  </tbody>\n",
       "</table>\n",
       "</div>"
      ],
      "text/plain": [
       "   payment_history  location_parameter  stem_degree_score  gpa_ranking  \\\n",
       "0              7.4                0.70               0.00          1.9   \n",
       "1              7.8                0.88               0.00          2.6   \n",
       "2              7.8                0.76               0.04          2.3   \n",
       "3             11.2                0.28               0.56          1.9   \n",
       "4              7.4                0.70               0.00          1.9   \n",
       "\n",
       "   alumni_success  study_major_code  time_to_completion  \\\n",
       "0           0.076              11.0                34.0   \n",
       "1           0.098              25.0                67.0   \n",
       "2           0.092              15.0                54.0   \n",
       "3           0.075              17.0                60.0   \n",
       "4           0.076              11.0                34.0   \n",
       "\n",
       "   finance_workshop_score  cohort_ranking  total_loan_score  \\\n",
       "0                  0.9978            3.51              0.56   \n",
       "1                  0.9968            3.20              0.68   \n",
       "2                  0.9970            3.26              0.65   \n",
       "3                  0.9980            3.16              0.58   \n",
       "4                  0.9978            3.51              0.56   \n",
       "\n",
       "   financial_aid_score  credit_ranking  \n",
       "0                  9.4               0  \n",
       "1                  9.8               0  \n",
       "2                  9.8               0  \n",
       "3                  9.8               1  \n",
       "4                  9.4               0  "
      ]
     },
     "execution_count": 6,
     "metadata": {},
     "output_type": "execute_result"
    }
   ],
   "source": [
    "# Read the csv into a Pandas DataFrame\n",
    "file_path = \"https://static.bc-edx.com/ai/ail-v-1-0/m18/lms/datasets/student-loans.csv\"\n",
    "loans_df = pd.read_csv(file_path)\n",
    "\n",
    "# Review the DataFrame\n",
    "loans_df.head()"
   ]
  },
  {
   "cell_type": "code",
   "execution_count": 7,
   "metadata": {
    "colab": {
     "base_uri": "https://localhost:8080/"
    },
    "id": "K8ZYB8wx6q6x",
    "outputId": "b509fc34-4488-406e-e451-2069fec37371"
   },
   "outputs": [
    {
     "data": {
      "text/plain": [
       "payment_history           float64\n",
       "location_parameter        float64\n",
       "stem_degree_score         float64\n",
       "gpa_ranking               float64\n",
       "alumni_success            float64\n",
       "study_major_code          float64\n",
       "time_to_completion        float64\n",
       "finance_workshop_score    float64\n",
       "cohort_ranking            float64\n",
       "total_loan_score          float64\n",
       "financial_aid_score       float64\n",
       "credit_ranking              int64\n",
       "dtype: object"
      ]
     },
     "execution_count": 7,
     "metadata": {},
     "output_type": "execute_result"
    }
   ],
   "source": [
    "# Review the data types associated with the columns\n",
    "loans_df.dtypes"
   ]
  },
  {
   "cell_type": "code",
   "execution_count": 8,
   "metadata": {
    "colab": {
     "base_uri": "https://localhost:8080/"
    },
    "id": "9P8aX-dW75JO",
    "outputId": "63251fa8-5ac1-4112-c2f7-bc5d97ea8491"
   },
   "outputs": [
    {
     "data": {
      "text/plain": [
       "credit_ranking\n",
       "1    855\n",
       "0    744\n",
       "Name: count, dtype: int64"
      ]
     },
     "execution_count": 8,
     "metadata": {},
     "output_type": "execute_result"
    }
   ],
   "source": [
    "# Check the credit_ranking value counts\n",
    "loans_df[\"credit_ranking\"].value_counts()"
   ]
  },
  {
   "cell_type": "markdown",
   "metadata": {
    "id": "R6vbZeDH6q6y"
   },
   "source": [
    "### Step 2: Using the preprocessed data, create the features (`X`) and target (`y`) datasets. The target dataset should be defined by the preprocessed DataFrame column “credit_ranking”. The remaining columns should define the features dataset."
   ]
  },
  {
   "cell_type": "code",
   "execution_count": 9,
   "metadata": {
    "colab": {
     "base_uri": "https://localhost:8080/"
    },
    "id": "Q5eVAP5M6q6y",
    "outputId": "89728bbf-6930-4573-a126-9f1b66ed8859"
   },
   "outputs": [
    {
     "name": "stdout",
     "output_type": "stream",
     "text": [
      "Sample of target set y:\n",
      "0    0\n",
      "1    0\n",
      "2    0\n",
      "3    1\n",
      "4    0\n",
      "Name: credit_ranking, dtype: int64\n"
     ]
    }
   ],
   "source": [
    "# Define the target set y using the credit_ranking column\n",
    "# Display a sample of y\n",
    "y = loans_df['credit_ranking']\n",
    "\n",
    "# Display a sample of `y`\n",
    "print(\"Sample of target set y:\")\n",
    "print(y.head())"
   ]
  },
  {
   "cell_type": "code",
   "execution_count": 12,
   "metadata": {
    "colab": {
     "base_uri": "https://localhost:8080/",
     "height": 226
    },
    "id": "IIkrD2Sn6q6z",
    "outputId": "ce07c4a3-fb81-4657-d11e-ec85ae8554c9"
   },
   "outputs": [
    {
     "name": "stdout",
     "output_type": "stream",
     "text": [
      "Sample of features set X:\n"
     ]
    },
    {
     "data": {
      "text/html": [
       "<div>\n",
       "<style scoped>\n",
       "    .dataframe tbody tr th:only-of-type {\n",
       "        vertical-align: middle;\n",
       "    }\n",
       "\n",
       "    .dataframe tbody tr th {\n",
       "        vertical-align: top;\n",
       "    }\n",
       "\n",
       "    .dataframe thead th {\n",
       "        text-align: right;\n",
       "    }\n",
       "</style>\n",
       "<table border=\"1\" class=\"dataframe\">\n",
       "  <thead>\n",
       "    <tr style=\"text-align: right;\">\n",
       "      <th></th>\n",
       "      <th>payment_history</th>\n",
       "      <th>location_parameter</th>\n",
       "      <th>stem_degree_score</th>\n",
       "      <th>gpa_ranking</th>\n",
       "      <th>alumni_success</th>\n",
       "      <th>study_major_code</th>\n",
       "      <th>time_to_completion</th>\n",
       "      <th>finance_workshop_score</th>\n",
       "      <th>cohort_ranking</th>\n",
       "      <th>total_loan_score</th>\n",
       "      <th>financial_aid_score</th>\n",
       "    </tr>\n",
       "  </thead>\n",
       "  <tbody>\n",
       "    <tr>\n",
       "      <th>0</th>\n",
       "      <td>7.4</td>\n",
       "      <td>0.70</td>\n",
       "      <td>0.00</td>\n",
       "      <td>1.9</td>\n",
       "      <td>0.076</td>\n",
       "      <td>11.0</td>\n",
       "      <td>34.0</td>\n",
       "      <td>0.9978</td>\n",
       "      <td>3.51</td>\n",
       "      <td>0.56</td>\n",
       "      <td>9.4</td>\n",
       "    </tr>\n",
       "    <tr>\n",
       "      <th>1</th>\n",
       "      <td>7.8</td>\n",
       "      <td>0.88</td>\n",
       "      <td>0.00</td>\n",
       "      <td>2.6</td>\n",
       "      <td>0.098</td>\n",
       "      <td>25.0</td>\n",
       "      <td>67.0</td>\n",
       "      <td>0.9968</td>\n",
       "      <td>3.20</td>\n",
       "      <td>0.68</td>\n",
       "      <td>9.8</td>\n",
       "    </tr>\n",
       "    <tr>\n",
       "      <th>2</th>\n",
       "      <td>7.8</td>\n",
       "      <td>0.76</td>\n",
       "      <td>0.04</td>\n",
       "      <td>2.3</td>\n",
       "      <td>0.092</td>\n",
       "      <td>15.0</td>\n",
       "      <td>54.0</td>\n",
       "      <td>0.9970</td>\n",
       "      <td>3.26</td>\n",
       "      <td>0.65</td>\n",
       "      <td>9.8</td>\n",
       "    </tr>\n",
       "    <tr>\n",
       "      <th>3</th>\n",
       "      <td>11.2</td>\n",
       "      <td>0.28</td>\n",
       "      <td>0.56</td>\n",
       "      <td>1.9</td>\n",
       "      <td>0.075</td>\n",
       "      <td>17.0</td>\n",
       "      <td>60.0</td>\n",
       "      <td>0.9980</td>\n",
       "      <td>3.16</td>\n",
       "      <td>0.58</td>\n",
       "      <td>9.8</td>\n",
       "    </tr>\n",
       "    <tr>\n",
       "      <th>4</th>\n",
       "      <td>7.4</td>\n",
       "      <td>0.70</td>\n",
       "      <td>0.00</td>\n",
       "      <td>1.9</td>\n",
       "      <td>0.076</td>\n",
       "      <td>11.0</td>\n",
       "      <td>34.0</td>\n",
       "      <td>0.9978</td>\n",
       "      <td>3.51</td>\n",
       "      <td>0.56</td>\n",
       "      <td>9.4</td>\n",
       "    </tr>\n",
       "  </tbody>\n",
       "</table>\n",
       "</div>"
      ],
      "text/plain": [
       "   payment_history  location_parameter  stem_degree_score  gpa_ranking  \\\n",
       "0              7.4                0.70               0.00          1.9   \n",
       "1              7.8                0.88               0.00          2.6   \n",
       "2              7.8                0.76               0.04          2.3   \n",
       "3             11.2                0.28               0.56          1.9   \n",
       "4              7.4                0.70               0.00          1.9   \n",
       "\n",
       "   alumni_success  study_major_code  time_to_completion  \\\n",
       "0           0.076              11.0                34.0   \n",
       "1           0.098              25.0                67.0   \n",
       "2           0.092              15.0                54.0   \n",
       "3           0.075              17.0                60.0   \n",
       "4           0.076              11.0                34.0   \n",
       "\n",
       "   finance_workshop_score  cohort_ranking  total_loan_score  \\\n",
       "0                  0.9978            3.51              0.56   \n",
       "1                  0.9968            3.20              0.68   \n",
       "2                  0.9970            3.26              0.65   \n",
       "3                  0.9980            3.16              0.58   \n",
       "4                  0.9978            3.51              0.56   \n",
       "\n",
       "   financial_aid_score  \n",
       "0                  9.4  \n",
       "1                  9.8  \n",
       "2                  9.8  \n",
       "3                  9.8  \n",
       "4                  9.4  "
      ]
     },
     "execution_count": 12,
     "metadata": {},
     "output_type": "execute_result"
    }
   ],
   "source": [
    "# Define features set X by selecting all columns but credit_ranking\n",
    "# Review the features DataFrame\n",
    "\n",
    "X = loans_df.drop(columns=['credit_ranking'])\n",
    "print(\"Sample of features set X:\")\n",
    "X.head()\n"
   ]
  },
  {
   "cell_type": "markdown",
   "metadata": {
    "id": "QmM9c-tj6q6z"
   },
   "source": [
    "### Step 3: Split the features and target sets into training and testing datasets.\n"
   ]
  },
  {
   "cell_type": "code",
   "execution_count": 13,
   "metadata": {
    "id": "OD7xwU_96q6z"
   },
   "outputs": [
    {
     "name": "stdout",
     "output_type": "stream",
     "text": [
      "X_train shape: (1279, 11)\n",
      "X_test shape: (320, 11)\n",
      "y_train shape: (1279,)\n",
      "y_test shape: (320,)\n"
     ]
    }
   ],
   "source": [
    "# Split the preprocessed data into a training and testing dataset\n",
    "# Assign the function a random_state equal to 1\n",
    "\n",
    "\n",
    "X_train, X_test, y_train, y_test = train_test_split(\n",
    "    X, y, test_size=0.2, random_state=1\n",
    ")\n",
    "\n",
    "# Display the shapes of the resulting datasets\n",
    "print(\"X_train shape:\", X_train.shape)\n",
    "print(\"X_test shape:\", X_test.shape)\n",
    "print(\"y_train shape:\", y_train.shape)\n",
    "print(\"y_test shape:\", y_test.shape)"
   ]
  },
  {
   "cell_type": "markdown",
   "metadata": {
    "id": "G9i6DHY06q6z"
   },
   "source": [
    "### Step 4: Use scikit-learn's `StandardScaler` to scale the features data."
   ]
  },
  {
   "cell_type": "code",
   "execution_count": 14,
   "metadata": {
    "id": "BzD3z20m6q6z"
   },
   "outputs": [
    {
     "name": "stdout",
     "output_type": "stream",
     "text": [
      "Feature means after fitting: [ 8.30265833  0.5313018   0.26867866  2.54827991  0.0875817  15.75801407\n",
      " 45.75605942  0.99673937  3.31498827  0.65935106 10.44347146]\n",
      "Feature scales after fitting: [1.77696823e+00 1.78522315e-01 1.97828056e-01 1.39887037e+00\n",
      " 4.75764576e-02 1.04498076e+01 3.21546472e+01 1.91929513e-03\n",
      " 1.56821375e-01 1.68777422e-01 1.08167249e+00]\n"
     ]
    }
   ],
   "source": [
    "# Create a StandardScaler instance\n",
    "# Fit the scaler to the features training dataset\n",
    "\n",
    "scaler = StandardScaler()\n",
    "scaler.fit(X_train)\n",
    "print(\"Feature means after fitting:\", scaler.mean_)\n",
    "print(\"Feature scales after fitting:\", scaler.scale_)"
   ]
  },
  {
   "cell_type": "markdown",
   "metadata": {
    "id": "CZzVDjba6q6z"
   },
   "source": [
    "---\n",
    "\n",
    "## Compile and Evaluate a Model Using a Neural Network"
   ]
  },
  {
   "cell_type": "markdown",
   "metadata": {
    "id": "m-pSux4Q6q60"
   },
   "source": [
    "### Step 1: Create a deep neural network by assigning the number of input features, the number of layers, and the number of neurons on each layer using Tensorflow’s Keras.\n",
    "\n",
    "> **Hint** You can start with a two-layer deep neural network model that uses the `relu` activation function for both layers.\n"
   ]
  },
  {
   "cell_type": "code",
   "execution_count": 15,
   "metadata": {
    "colab": {
     "base_uri": "https://localhost:8080/"
    },
    "id": "t5C94FCd6q60",
    "outputId": "cbf05783-2f56-4745-cd33-649a6152e510"
   },
   "outputs": [
    {
     "name": "stdout",
     "output_type": "stream",
     "text": [
      "Number of input features: 11\n"
     ]
    }
   ],
   "source": [
    "# Define the the number of inputs (features) to the model\n",
    "# Review the number of features\n",
    "number_of_features = X_train.shape[1]\n",
    "# Review the number of features\n",
    "print(f\"Number of input features: {number_of_features}\")"
   ]
  },
  {
   "cell_type": "code",
   "execution_count": 16,
   "metadata": {
    "id": "c_KXDLkF6q60"
   },
   "outputs": [
    {
     "name": "stderr",
     "output_type": "stream",
     "text": [
      "C:\\Users\\jsk33\\AppData\\Local\\Programs\\Python\\Python310\\lib\\site-packages\\keras\\src\\layers\\core\\dense.py:87: UserWarning: Do not pass an `input_shape`/`input_dim` argument to a layer. When using Sequential models, prefer using an `Input(shape)` object as the first layer in the model instead.\n",
      "  super().__init__(activity_regularizer=activity_regularizer, **kwargs)\n"
     ]
    },
    {
     "data": {
      "text/html": [
       "<pre style=\"white-space:pre;overflow-x:auto;line-height:normal;font-family:Menlo,'DejaVu Sans Mono',consolas,'Courier New',monospace\"><span style=\"font-weight: bold\">Model: \"sequential\"</span>\n",
       "</pre>\n"
      ],
      "text/plain": [
       "\u001b[1mModel: \"sequential\"\u001b[0m\n"
      ]
     },
     "metadata": {},
     "output_type": "display_data"
    },
    {
     "data": {
      "text/html": [
       "<pre style=\"white-space:pre;overflow-x:auto;line-height:normal;font-family:Menlo,'DejaVu Sans Mono',consolas,'Courier New',monospace\">┏━━━━━━━━━━━━━━━━━━━━━━━━━━━━━━━━━┳━━━━━━━━━━━━━━━━━━━━━━━━┳━━━━━━━━━━━━━━━┓\n",
       "┃<span style=\"font-weight: bold\"> Layer (type)                    </span>┃<span style=\"font-weight: bold\"> Output Shape           </span>┃<span style=\"font-weight: bold\">       Param # </span>┃\n",
       "┡━━━━━━━━━━━━━━━━━━━━━━━━━━━━━━━━━╇━━━━━━━━━━━━━━━━━━━━━━━━╇━━━━━━━━━━━━━━━┩\n",
       "│ dense (<span style=\"color: #0087ff; text-decoration-color: #0087ff\">Dense</span>)                   │ (<span style=\"color: #00d7ff; text-decoration-color: #00d7ff\">None</span>, <span style=\"color: #00af00; text-decoration-color: #00af00\">16</span>)             │           <span style=\"color: #00af00; text-decoration-color: #00af00\">192</span> │\n",
       "├─────────────────────────────────┼────────────────────────┼───────────────┤\n",
       "│ dense_1 (<span style=\"color: #0087ff; text-decoration-color: #0087ff\">Dense</span>)                 │ (<span style=\"color: #00d7ff; text-decoration-color: #00d7ff\">None</span>, <span style=\"color: #00af00; text-decoration-color: #00af00\">8</span>)              │           <span style=\"color: #00af00; text-decoration-color: #00af00\">136</span> │\n",
       "├─────────────────────────────────┼────────────────────────┼───────────────┤\n",
       "│ dense_2 (<span style=\"color: #0087ff; text-decoration-color: #0087ff\">Dense</span>)                 │ (<span style=\"color: #00d7ff; text-decoration-color: #00d7ff\">None</span>, <span style=\"color: #00af00; text-decoration-color: #00af00\">1</span>)              │             <span style=\"color: #00af00; text-decoration-color: #00af00\">9</span> │\n",
       "└─────────────────────────────────┴────────────────────────┴───────────────┘\n",
       "</pre>\n"
      ],
      "text/plain": [
       "┏━━━━━━━━━━━━━━━━━━━━━━━━━━━━━━━━━┳━━━━━━━━━━━━━━━━━━━━━━━━┳━━━━━━━━━━━━━━━┓\n",
       "┃\u001b[1m \u001b[0m\u001b[1mLayer (type)                   \u001b[0m\u001b[1m \u001b[0m┃\u001b[1m \u001b[0m\u001b[1mOutput Shape          \u001b[0m\u001b[1m \u001b[0m┃\u001b[1m \u001b[0m\u001b[1m      Param #\u001b[0m\u001b[1m \u001b[0m┃\n",
       "┡━━━━━━━━━━━━━━━━━━━━━━━━━━━━━━━━━╇━━━━━━━━━━━━━━━━━━━━━━━━╇━━━━━━━━━━━━━━━┩\n",
       "│ dense (\u001b[38;5;33mDense\u001b[0m)                   │ (\u001b[38;5;45mNone\u001b[0m, \u001b[38;5;34m16\u001b[0m)             │           \u001b[38;5;34m192\u001b[0m │\n",
       "├─────────────────────────────────┼────────────────────────┼───────────────┤\n",
       "│ dense_1 (\u001b[38;5;33mDense\u001b[0m)                 │ (\u001b[38;5;45mNone\u001b[0m, \u001b[38;5;34m8\u001b[0m)              │           \u001b[38;5;34m136\u001b[0m │\n",
       "├─────────────────────────────────┼────────────────────────┼───────────────┤\n",
       "│ dense_2 (\u001b[38;5;33mDense\u001b[0m)                 │ (\u001b[38;5;45mNone\u001b[0m, \u001b[38;5;34m1\u001b[0m)              │             \u001b[38;5;34m9\u001b[0m │\n",
       "└─────────────────────────────────┴────────────────────────┴───────────────┘\n"
      ]
     },
     "metadata": {},
     "output_type": "display_data"
    },
    {
     "data": {
      "text/html": [
       "<pre style=\"white-space:pre;overflow-x:auto;line-height:normal;font-family:Menlo,'DejaVu Sans Mono',consolas,'Courier New',monospace\"><span style=\"font-weight: bold\"> Total params: </span><span style=\"color: #00af00; text-decoration-color: #00af00\">337</span> (1.32 KB)\n",
       "</pre>\n"
      ],
      "text/plain": [
       "\u001b[1m Total params: \u001b[0m\u001b[38;5;34m337\u001b[0m (1.32 KB)\n"
      ]
     },
     "metadata": {},
     "output_type": "display_data"
    },
    {
     "data": {
      "text/html": [
       "<pre style=\"white-space:pre;overflow-x:auto;line-height:normal;font-family:Menlo,'DejaVu Sans Mono',consolas,'Courier New',monospace\"><span style=\"font-weight: bold\"> Trainable params: </span><span style=\"color: #00af00; text-decoration-color: #00af00\">337</span> (1.32 KB)\n",
       "</pre>\n"
      ],
      "text/plain": [
       "\u001b[1m Trainable params: \u001b[0m\u001b[38;5;34m337\u001b[0m (1.32 KB)\n"
      ]
     },
     "metadata": {},
     "output_type": "display_data"
    },
    {
     "data": {
      "text/html": [
       "<pre style=\"white-space:pre;overflow-x:auto;line-height:normal;font-family:Menlo,'DejaVu Sans Mono',consolas,'Courier New',monospace\"><span style=\"font-weight: bold\"> Non-trainable params: </span><span style=\"color: #00af00; text-decoration-color: #00af00\">0</span> (0.00 B)\n",
       "</pre>\n"
      ],
      "text/plain": [
       "\u001b[1m Non-trainable params: \u001b[0m\u001b[38;5;34m0\u001b[0m (0.00 B)\n"
      ]
     },
     "metadata": {},
     "output_type": "display_data"
    }
   ],
   "source": [
    "# Define the number of hidden nodes for the first hidden layer\n",
    "# Define the number of hidden nodes for the second hidden layer\n",
    "# Define the number of neurons in the output layer\n",
    "\n",
    "import tensorflow as tf\n",
    "from tensorflow.keras.models import Sequential\n",
    "from tensorflow.keras.layers import Dense\n",
    "\n",
    "# Create a Sequential model\n",
    "model = Sequential()\n",
    "\n",
    "# Add the first hidden layer\n",
    "model.add(Dense(units=16, activation='relu', input_dim=number_of_features))\n",
    "\n",
    "# Add the second hidden layer\n",
    "model.add(Dense(units=8, activation='relu'))\n",
    "\n",
    "# Add the output layer (assuming binary classification)\n",
    "model.add(Dense(units=1, activation='sigmoid'))\n",
    "\n",
    "# Review the model summary\n",
    "model.summary()"
   ]
  },
  {
   "cell_type": "code",
   "execution_count": 11,
   "metadata": {
    "id": "63UdFncw6q60"
   },
   "outputs": [],
   "source": [
    "# Create the Sequential model instance\n",
    "\n",
    "\n",
    "# Add the first hidden layer\n",
    "\n",
    "\n",
    "# Add the second hidden layer\n",
    "\n",
    "\n",
    "# Add the output layer to the model specifying the number of output neurons and activation function\n"
   ]
  },
  {
   "cell_type": "code",
   "execution_count": 12,
   "metadata": {
    "colab": {
     "base_uri": "https://localhost:8080/"
    },
    "id": "-Beoh4f_6q61",
    "outputId": "2e50f810-086b-4d89-bf7d-98afbe0d649d"
   },
   "outputs": [
    {
     "name": "stdout",
     "output_type": "stream",
     "text": [
      "Model: \"sequential\"\n",
      "_________________________________________________________________\n",
      " Layer (type)                Output Shape              Param #   \n",
      "=================================================================\n",
      " dense (Dense)               (None, 6)                 72        \n",
      "                                                                 \n",
      " dense_1 (Dense)             (None, 3)                 21        \n",
      "                                                                 \n",
      " dense_2 (Dense)             (None, 1)                 4         \n",
      "                                                                 \n",
      "=================================================================\n",
      "Total params: 97 (388.00 Byte)\n",
      "Trainable params: 97 (388.00 Byte)\n",
      "Non-trainable params: 0 (0.00 Byte)\n",
      "_________________________________________________________________\n"
     ]
    }
   ],
   "source": [
    "# Display the Sequential model summary\n"
   ]
  },
  {
   "cell_type": "markdown",
   "metadata": {
    "id": "nRqWGIRo6q61"
   },
   "source": [
    "### Step 2: Compile and fit the model using the `binary_crossentropy` loss function, the `adam` optimizer, and the `accuracy` evaluation metric.\n"
   ]
  },
  {
   "cell_type": "code",
   "execution_count": 13,
   "metadata": {
    "id": "E-hZaeSn6q61"
   },
   "outputs": [],
   "source": [
    "# Compile the Sequential model\n"
   ]
  },
  {
   "cell_type": "code",
   "execution_count": 14,
   "metadata": {
    "colab": {
     "base_uri": "https://localhost:8080/"
    },
    "id": "x25e8Idc6q61",
    "outputId": "e95946ba-23da-47a3-a1c1-5e9a2a484a47"
   },
   "outputs": [
    {
     "name": "stdout",
     "output_type": "stream",
     "text": [
      "Epoch 1/50\n",
      "38/38 [==============================] - 3s 5ms/step - loss: 0.6736 - accuracy: 0.5696\n",
      "Epoch 2/50\n",
      "38/38 [==============================] - 0s 5ms/step - loss: 0.6642 - accuracy: 0.6397\n",
      "Epoch 3/50\n",
      "38/38 [==============================] - 0s 6ms/step - loss: 0.6551 - accuracy: 0.6814\n",
      "Epoch 4/50\n",
      "38/38 [==============================] - 0s 6ms/step - loss: 0.6467 - accuracy: 0.6939\n",
      "Epoch 5/50\n",
      "38/38 [==============================] - 0s 5ms/step - loss: 0.6390 - accuracy: 0.6989\n",
      "Epoch 6/50\n",
      "38/38 [==============================] - 0s 4ms/step - loss: 0.6319 - accuracy: 0.7098\n",
      "Epoch 7/50\n",
      "38/38 [==============================] - 0s 4ms/step - loss: 0.6255 - accuracy: 0.7173\n",
      "Epoch 8/50\n",
      "38/38 [==============================] - 0s 4ms/step - loss: 0.6193 - accuracy: 0.7164\n",
      "Epoch 9/50\n",
      "38/38 [==============================] - 0s 4ms/step - loss: 0.6139 - accuracy: 0.7231\n",
      "Epoch 10/50\n",
      "38/38 [==============================] - 0s 4ms/step - loss: 0.6084 - accuracy: 0.7281\n",
      "Epoch 11/50\n",
      "38/38 [==============================] - 0s 3ms/step - loss: 0.6038 - accuracy: 0.7323\n",
      "Epoch 12/50\n",
      "38/38 [==============================] - 0s 3ms/step - loss: 0.5989 - accuracy: 0.7339\n",
      "Epoch 13/50\n",
      "38/38 [==============================] - 0s 4ms/step - loss: 0.5948 - accuracy: 0.7356\n",
      "Epoch 14/50\n",
      "38/38 [==============================] - 0s 9ms/step - loss: 0.5910 - accuracy: 0.7381\n",
      "Epoch 15/50\n",
      "38/38 [==============================] - 0s 11ms/step - loss: 0.5874 - accuracy: 0.7364\n",
      "Epoch 16/50\n",
      "38/38 [==============================] - 0s 5ms/step - loss: 0.5835 - accuracy: 0.7381\n",
      "Epoch 17/50\n",
      "38/38 [==============================] - 0s 5ms/step - loss: 0.5801 - accuracy: 0.7398\n",
      "Epoch 18/50\n",
      "38/38 [==============================] - 0s 6ms/step - loss: 0.5768 - accuracy: 0.7406\n",
      "Epoch 19/50\n",
      "38/38 [==============================] - 0s 6ms/step - loss: 0.5738 - accuracy: 0.7398\n",
      "Epoch 20/50\n",
      "38/38 [==============================] - 0s 3ms/step - loss: 0.5704 - accuracy: 0.7406\n",
      "Epoch 21/50\n",
      "38/38 [==============================] - 0s 3ms/step - loss: 0.5674 - accuracy: 0.7398\n",
      "Epoch 22/50\n",
      "38/38 [==============================] - 0s 4ms/step - loss: 0.5647 - accuracy: 0.7415\n",
      "Epoch 23/50\n",
      "38/38 [==============================] - 0s 5ms/step - loss: 0.5619 - accuracy: 0.7440\n",
      "Epoch 24/50\n",
      "38/38 [==============================] - 0s 5ms/step - loss: 0.5594 - accuracy: 0.7440\n",
      "Epoch 25/50\n",
      "38/38 [==============================] - 0s 5ms/step - loss: 0.5572 - accuracy: 0.7440\n",
      "Epoch 26/50\n",
      "38/38 [==============================] - 0s 5ms/step - loss: 0.5551 - accuracy: 0.7473\n",
      "Epoch 27/50\n",
      "38/38 [==============================] - 0s 4ms/step - loss: 0.5530 - accuracy: 0.7473\n",
      "Epoch 28/50\n",
      "38/38 [==============================] - 0s 2ms/step - loss: 0.5513 - accuracy: 0.7481\n",
      "Epoch 29/50\n",
      "38/38 [==============================] - 0s 2ms/step - loss: 0.5488 - accuracy: 0.7515\n",
      "Epoch 30/50\n",
      "38/38 [==============================] - 0s 2ms/step - loss: 0.5466 - accuracy: 0.7548\n",
      "Epoch 31/50\n",
      "38/38 [==============================] - 0s 2ms/step - loss: 0.5440 - accuracy: 0.7556\n",
      "Epoch 32/50\n",
      "38/38 [==============================] - 0s 2ms/step - loss: 0.5412 - accuracy: 0.7590\n",
      "Epoch 33/50\n",
      "38/38 [==============================] - 0s 2ms/step - loss: 0.5374 - accuracy: 0.7565\n",
      "Epoch 34/50\n",
      "38/38 [==============================] - 0s 2ms/step - loss: 0.5334 - accuracy: 0.7615\n",
      "Epoch 35/50\n",
      "38/38 [==============================] - 0s 2ms/step - loss: 0.5288 - accuracy: 0.7615\n",
      "Epoch 36/50\n",
      "38/38 [==============================] - 0s 2ms/step - loss: 0.5245 - accuracy: 0.7631\n",
      "Epoch 37/50\n",
      "38/38 [==============================] - 0s 2ms/step - loss: 0.5204 - accuracy: 0.7623\n",
      "Epoch 38/50\n",
      "38/38 [==============================] - 0s 2ms/step - loss: 0.5176 - accuracy: 0.7606\n",
      "Epoch 39/50\n",
      "38/38 [==============================] - 0s 2ms/step - loss: 0.5146 - accuracy: 0.7640\n",
      "Epoch 40/50\n",
      "38/38 [==============================] - 0s 2ms/step - loss: 0.5119 - accuracy: 0.7606\n",
      "Epoch 41/50\n",
      "38/38 [==============================] - 0s 2ms/step - loss: 0.5100 - accuracy: 0.7581\n",
      "Epoch 42/50\n",
      "38/38 [==============================] - 0s 2ms/step - loss: 0.5081 - accuracy: 0.7556\n",
      "Epoch 43/50\n",
      "38/38 [==============================] - 0s 2ms/step - loss: 0.5065 - accuracy: 0.7565\n",
      "Epoch 44/50\n",
      "38/38 [==============================] - 0s 2ms/step - loss: 0.5043 - accuracy: 0.7573\n",
      "Epoch 45/50\n",
      "38/38 [==============================] - 0s 2ms/step - loss: 0.5029 - accuracy: 0.7581\n",
      "Epoch 46/50\n",
      "38/38 [==============================] - 0s 3ms/step - loss: 0.5013 - accuracy: 0.7590\n",
      "Epoch 47/50\n",
      "38/38 [==============================] - 0s 2ms/step - loss: 0.4995 - accuracy: 0.7606\n",
      "Epoch 48/50\n",
      "38/38 [==============================] - 0s 2ms/step - loss: 0.4980 - accuracy: 0.7606\n",
      "Epoch 49/50\n",
      "38/38 [==============================] - 0s 2ms/step - loss: 0.4968 - accuracy: 0.7581\n",
      "Epoch 50/50\n",
      "38/38 [==============================] - 0s 2ms/step - loss: 0.4947 - accuracy: 0.7598\n"
     ]
    }
   ],
   "source": [
    "# Fit the model using 50 epochs and the training data\n"
   ]
  },
  {
   "cell_type": "markdown",
   "metadata": {
    "id": "RfHMPZVI6q61"
   },
   "source": [
    "### Step 3: Evaluate the model using the test data to determine the model’s loss and accuracy.\n"
   ]
  },
  {
   "cell_type": "code",
   "execution_count": 15,
   "metadata": {
    "colab": {
     "base_uri": "https://localhost:8080/"
    },
    "id": "5hfVADKo6q61",
    "outputId": "7df473ad-3301-4b49-e5c3-16e1687cc1cf"
   },
   "outputs": [
    {
     "name": "stdout",
     "output_type": "stream",
     "text": [
      "13/13 - 0s - loss: 0.5049 - accuracy: 0.7350 - 175ms/epoch - 13ms/step\n",
      "Loss: 0.5049149394035339, Accuracy: 0.7350000143051147\n"
     ]
    }
   ],
   "source": [
    "# Evaluate the model loss and accuracy metrics using the evaluate method and the test data\n",
    "\n",
    "\n",
    "# Display the model loss and accuracy results\n"
   ]
  },
  {
   "cell_type": "markdown",
   "metadata": {
    "id": "jpAv0rXA6q61"
   },
   "source": [
    "### Step 4: Save and export your model to a keras file, and name the file `student_loans.keras`.\n"
   ]
  },
  {
   "cell_type": "code",
   "execution_count": 16,
   "metadata": {
    "id": "q0MetN0W6q61"
   },
   "outputs": [],
   "source": [
    "# Set the model's file path\n",
    "\n",
    "\n",
    "# Export your model to a keras file\n"
   ]
  },
  {
   "cell_type": "markdown",
   "metadata": {
    "id": "R1opCDdN6q61"
   },
   "source": [
    "---\n",
    "## Predict Loan Repayment Success by Using your Neural Network Model"
   ]
  },
  {
   "cell_type": "markdown",
   "metadata": {
    "id": "TfIfpeiy6q61"
   },
   "source": [
    "### Step 1: Reload your saved model."
   ]
  },
  {
   "cell_type": "code",
   "execution_count": 17,
   "metadata": {
    "id": "OCET2mvW6q61"
   },
   "outputs": [],
   "source": [
    "# Set the model's file path\n",
    "\n",
    "\n",
    "# Load the model to a new object\n"
   ]
  },
  {
   "cell_type": "markdown",
   "metadata": {
    "id": "rTPKooGw6q61"
   },
   "source": [
    "### Step 2: Make predictions on the testing data and save the predictions to a DataFrame."
   ]
  },
  {
   "cell_type": "code",
   "execution_count": 18,
   "metadata": {
    "colab": {
     "base_uri": "https://localhost:8080/"
    },
    "id": "Vet7qjgx6q62",
    "outputId": "0925af42-7e12-4978-8396-2a2c1580e1eb"
   },
   "outputs": [
    {
     "name": "stdout",
     "output_type": "stream",
     "text": [
      "13/13 - 0s - 126ms/epoch - 10ms/step\n"
     ]
    },
    {
     "data": {
      "text/plain": [
       "array([[0.63573396],\n",
       "       [0.41001907],\n",
       "       [0.88199055],\n",
       "       [0.61770827],\n",
       "       [0.9708398 ]], dtype=float32)"
      ]
     },
     "execution_count": 18,
     "metadata": {},
     "output_type": "execute_result"
    }
   ],
   "source": [
    "# Make predictions with the test data\n",
    "\n",
    "\n",
    "# Display a sample of the predictions\n"
   ]
  },
  {
   "cell_type": "code",
   "execution_count": 19,
   "metadata": {
    "colab": {
     "base_uri": "https://localhost:8080/",
     "height": 424
    },
    "id": "87o8exFPhjfl",
    "outputId": "da5339c5-cea7-43e4-ec22-e168ea16dfa2"
   },
   "outputs": [
    {
     "data": {
      "text/html": [
       "\n",
       "  <div id=\"df-b764d2b2-92a0-4966-87c3-cf2a7be385d8\" class=\"colab-df-container\">\n",
       "    <div>\n",
       "<style scoped>\n",
       "    .dataframe tbody tr th:only-of-type {\n",
       "        vertical-align: middle;\n",
       "    }\n",
       "\n",
       "    .dataframe tbody tr th {\n",
       "        vertical-align: top;\n",
       "    }\n",
       "\n",
       "    .dataframe thead th {\n",
       "        text-align: right;\n",
       "    }\n",
       "</style>\n",
       "<table border=\"1\" class=\"dataframe\">\n",
       "  <thead>\n",
       "    <tr style=\"text-align: right;\">\n",
       "      <th></th>\n",
       "      <th>predictions</th>\n",
       "    </tr>\n",
       "  </thead>\n",
       "  <tbody>\n",
       "    <tr>\n",
       "      <th>0</th>\n",
       "      <td>1.0</td>\n",
       "    </tr>\n",
       "    <tr>\n",
       "      <th>1</th>\n",
       "      <td>0.0</td>\n",
       "    </tr>\n",
       "    <tr>\n",
       "      <th>2</th>\n",
       "      <td>1.0</td>\n",
       "    </tr>\n",
       "    <tr>\n",
       "      <th>3</th>\n",
       "      <td>1.0</td>\n",
       "    </tr>\n",
       "    <tr>\n",
       "      <th>4</th>\n",
       "      <td>1.0</td>\n",
       "    </tr>\n",
       "    <tr>\n",
       "      <th>...</th>\n",
       "      <td>...</td>\n",
       "    </tr>\n",
       "    <tr>\n",
       "      <th>395</th>\n",
       "      <td>1.0</td>\n",
       "    </tr>\n",
       "    <tr>\n",
       "      <th>396</th>\n",
       "      <td>0.0</td>\n",
       "    </tr>\n",
       "    <tr>\n",
       "      <th>397</th>\n",
       "      <td>1.0</td>\n",
       "    </tr>\n",
       "    <tr>\n",
       "      <th>398</th>\n",
       "      <td>0.0</td>\n",
       "    </tr>\n",
       "    <tr>\n",
       "      <th>399</th>\n",
       "      <td>0.0</td>\n",
       "    </tr>\n",
       "  </tbody>\n",
       "</table>\n",
       "<p>400 rows × 1 columns</p>\n",
       "</div>\n",
       "    <div class=\"colab-df-buttons\">\n",
       "\n",
       "  <div class=\"colab-df-container\">\n",
       "    <button class=\"colab-df-convert\" onclick=\"convertToInteractive('df-b764d2b2-92a0-4966-87c3-cf2a7be385d8')\"\n",
       "            title=\"Convert this dataframe to an interactive table.\"\n",
       "            style=\"display:none;\">\n",
       "\n",
       "  <svg xmlns=\"http://www.w3.org/2000/svg\" height=\"24px\" viewBox=\"0 -960 960 960\">\n",
       "    <path d=\"M120-120v-720h720v720H120Zm60-500h600v-160H180v160Zm220 220h160v-160H400v160Zm0 220h160v-160H400v160ZM180-400h160v-160H180v160Zm440 0h160v-160H620v160ZM180-180h160v-160H180v160Zm440 0h160v-160H620v160Z\"/>\n",
       "  </svg>\n",
       "    </button>\n",
       "\n",
       "  <style>\n",
       "    .colab-df-container {\n",
       "      display:flex;\n",
       "      gap: 12px;\n",
       "    }\n",
       "\n",
       "    .colab-df-convert {\n",
       "      background-color: #E8F0FE;\n",
       "      border: none;\n",
       "      border-radius: 50%;\n",
       "      cursor: pointer;\n",
       "      display: none;\n",
       "      fill: #1967D2;\n",
       "      height: 32px;\n",
       "      padding: 0 0 0 0;\n",
       "      width: 32px;\n",
       "    }\n",
       "\n",
       "    .colab-df-convert:hover {\n",
       "      background-color: #E2EBFA;\n",
       "      box-shadow: 0px 1px 2px rgba(60, 64, 67, 0.3), 0px 1px 3px 1px rgba(60, 64, 67, 0.15);\n",
       "      fill: #174EA6;\n",
       "    }\n",
       "\n",
       "    .colab-df-buttons div {\n",
       "      margin-bottom: 4px;\n",
       "    }\n",
       "\n",
       "    [theme=dark] .colab-df-convert {\n",
       "      background-color: #3B4455;\n",
       "      fill: #D2E3FC;\n",
       "    }\n",
       "\n",
       "    [theme=dark] .colab-df-convert:hover {\n",
       "      background-color: #434B5C;\n",
       "      box-shadow: 0px 1px 3px 1px rgba(0, 0, 0, 0.15);\n",
       "      filter: drop-shadow(0px 1px 2px rgba(0, 0, 0, 0.3));\n",
       "      fill: #FFFFFF;\n",
       "    }\n",
       "  </style>\n",
       "\n",
       "    <script>\n",
       "      const buttonEl =\n",
       "        document.querySelector('#df-b764d2b2-92a0-4966-87c3-cf2a7be385d8 button.colab-df-convert');\n",
       "      buttonEl.style.display =\n",
       "        google.colab.kernel.accessAllowed ? 'block' : 'none';\n",
       "\n",
       "      async function convertToInteractive(key) {\n",
       "        const element = document.querySelector('#df-b764d2b2-92a0-4966-87c3-cf2a7be385d8');\n",
       "        const dataTable =\n",
       "          await google.colab.kernel.invokeFunction('convertToInteractive',\n",
       "                                                    [key], {});\n",
       "        if (!dataTable) return;\n",
       "\n",
       "        const docLinkHtml = 'Like what you see? Visit the ' +\n",
       "          '<a target=\"_blank\" href=https://colab.research.google.com/notebooks/data_table.ipynb>data table notebook</a>'\n",
       "          + ' to learn more about interactive tables.';\n",
       "        element.innerHTML = '';\n",
       "        dataTable['output_type'] = 'display_data';\n",
       "        await google.colab.output.renderOutput(dataTable, element);\n",
       "        const docLink = document.createElement('div');\n",
       "        docLink.innerHTML = docLinkHtml;\n",
       "        element.appendChild(docLink);\n",
       "      }\n",
       "    </script>\n",
       "  </div>\n",
       "\n",
       "\n",
       "<div id=\"df-c8bb016b-0816-49d7-917e-bb5329b4b9ea\">\n",
       "  <button class=\"colab-df-quickchart\" onclick=\"quickchart('df-c8bb016b-0816-49d7-917e-bb5329b4b9ea')\"\n",
       "            title=\"Suggest charts\"\n",
       "            style=\"display:none;\">\n",
       "\n",
       "<svg xmlns=\"http://www.w3.org/2000/svg\" height=\"24px\"viewBox=\"0 0 24 24\"\n",
       "     width=\"24px\">\n",
       "    <g>\n",
       "        <path d=\"M19 3H5c-1.1 0-2 .9-2 2v14c0 1.1.9 2 2 2h14c1.1 0 2-.9 2-2V5c0-1.1-.9-2-2-2zM9 17H7v-7h2v7zm4 0h-2V7h2v10zm4 0h-2v-4h2v4z\"/>\n",
       "    </g>\n",
       "</svg>\n",
       "  </button>\n",
       "\n",
       "<style>\n",
       "  .colab-df-quickchart {\n",
       "      --bg-color: #E8F0FE;\n",
       "      --fill-color: #1967D2;\n",
       "      --hover-bg-color: #E2EBFA;\n",
       "      --hover-fill-color: #174EA6;\n",
       "      --disabled-fill-color: #AAA;\n",
       "      --disabled-bg-color: #DDD;\n",
       "  }\n",
       "\n",
       "  [theme=dark] .colab-df-quickchart {\n",
       "      --bg-color: #3B4455;\n",
       "      --fill-color: #D2E3FC;\n",
       "      --hover-bg-color: #434B5C;\n",
       "      --hover-fill-color: #FFFFFF;\n",
       "      --disabled-bg-color: #3B4455;\n",
       "      --disabled-fill-color: #666;\n",
       "  }\n",
       "\n",
       "  .colab-df-quickchart {\n",
       "    background-color: var(--bg-color);\n",
       "    border: none;\n",
       "    border-radius: 50%;\n",
       "    cursor: pointer;\n",
       "    display: none;\n",
       "    fill: var(--fill-color);\n",
       "    height: 32px;\n",
       "    padding: 0;\n",
       "    width: 32px;\n",
       "  }\n",
       "\n",
       "  .colab-df-quickchart:hover {\n",
       "    background-color: var(--hover-bg-color);\n",
       "    box-shadow: 0 1px 2px rgba(60, 64, 67, 0.3), 0 1px 3px 1px rgba(60, 64, 67, 0.15);\n",
       "    fill: var(--button-hover-fill-color);\n",
       "  }\n",
       "\n",
       "  .colab-df-quickchart-complete:disabled,\n",
       "  .colab-df-quickchart-complete:disabled:hover {\n",
       "    background-color: var(--disabled-bg-color);\n",
       "    fill: var(--disabled-fill-color);\n",
       "    box-shadow: none;\n",
       "  }\n",
       "\n",
       "  .colab-df-spinner {\n",
       "    border: 2px solid var(--fill-color);\n",
       "    border-color: transparent;\n",
       "    border-bottom-color: var(--fill-color);\n",
       "    animation:\n",
       "      spin 1s steps(1) infinite;\n",
       "  }\n",
       "\n",
       "  @keyframes spin {\n",
       "    0% {\n",
       "      border-color: transparent;\n",
       "      border-bottom-color: var(--fill-color);\n",
       "      border-left-color: var(--fill-color);\n",
       "    }\n",
       "    20% {\n",
       "      border-color: transparent;\n",
       "      border-left-color: var(--fill-color);\n",
       "      border-top-color: var(--fill-color);\n",
       "    }\n",
       "    30% {\n",
       "      border-color: transparent;\n",
       "      border-left-color: var(--fill-color);\n",
       "      border-top-color: var(--fill-color);\n",
       "      border-right-color: var(--fill-color);\n",
       "    }\n",
       "    40% {\n",
       "      border-color: transparent;\n",
       "      border-right-color: var(--fill-color);\n",
       "      border-top-color: var(--fill-color);\n",
       "    }\n",
       "    60% {\n",
       "      border-color: transparent;\n",
       "      border-right-color: var(--fill-color);\n",
       "    }\n",
       "    80% {\n",
       "      border-color: transparent;\n",
       "      border-right-color: var(--fill-color);\n",
       "      border-bottom-color: var(--fill-color);\n",
       "    }\n",
       "    90% {\n",
       "      border-color: transparent;\n",
       "      border-bottom-color: var(--fill-color);\n",
       "    }\n",
       "  }\n",
       "</style>\n",
       "\n",
       "  <script>\n",
       "    async function quickchart(key) {\n",
       "      const quickchartButtonEl =\n",
       "        document.querySelector('#' + key + ' button');\n",
       "      quickchartButtonEl.disabled = true;  // To prevent multiple clicks.\n",
       "      quickchartButtonEl.classList.add('colab-df-spinner');\n",
       "      try {\n",
       "        const charts = await google.colab.kernel.invokeFunction(\n",
       "            'suggestCharts', [key], {});\n",
       "      } catch (error) {\n",
       "        console.error('Error during call to suggestCharts:', error);\n",
       "      }\n",
       "      quickchartButtonEl.classList.remove('colab-df-spinner');\n",
       "      quickchartButtonEl.classList.add('colab-df-quickchart-complete');\n",
       "    }\n",
       "    (() => {\n",
       "      let quickchartButtonEl =\n",
       "        document.querySelector('#df-c8bb016b-0816-49d7-917e-bb5329b4b9ea button');\n",
       "      quickchartButtonEl.style.display =\n",
       "        google.colab.kernel.accessAllowed ? 'block' : 'none';\n",
       "    })();\n",
       "  </script>\n",
       "</div>\n",
       "    </div>\n",
       "  </div>\n"
      ],
      "text/plain": [
       "     predictions\n",
       "0            1.0\n",
       "1            0.0\n",
       "2            1.0\n",
       "3            1.0\n",
       "4            1.0\n",
       "..           ...\n",
       "395          1.0\n",
       "396          0.0\n",
       "397          1.0\n",
       "398          0.0\n",
       "399          0.0\n",
       "\n",
       "[400 rows x 1 columns]"
      ]
     },
     "execution_count": 19,
     "metadata": {},
     "output_type": "execute_result"
    }
   ],
   "source": [
    "# Save the predictions to a DataFrame and round the predictions to binary results\n"
   ]
  },
  {
   "cell_type": "markdown",
   "metadata": {
    "id": "oxxLwycg6q62"
   },
   "source": [
    "### Step 4: Display a classification report with the y test data and predictions"
   ]
  },
  {
   "cell_type": "code",
   "execution_count": 20,
   "metadata": {
    "colab": {
     "base_uri": "https://localhost:8080/"
    },
    "id": "UTxYZibW6q67",
    "outputId": "f341b396-9b4c-478c-dba8-f6d904ba10e3"
   },
   "outputs": [
    {
     "name": "stdout",
     "output_type": "stream",
     "text": [
      "              precision    recall  f1-score   support\n",
      "\n",
      "           0       0.70      0.76      0.73       188\n",
      "           1       0.77      0.72      0.74       212\n",
      "\n",
      "    accuracy                           0.73       400\n",
      "   macro avg       0.74      0.74      0.73       400\n",
      "weighted avg       0.74      0.73      0.74       400\n",
      "\n"
     ]
    }
   ],
   "source": [
    "# Print the classification report with the y test data and predictions\n"
   ]
  },
  {
   "cell_type": "markdown",
   "metadata": {
    "id": "8Aaof1tBtcp6"
   },
   "source": [
    "---\n",
    "## Discuss creating a recommendation system for student loans"
   ]
  },
  {
   "cell_type": "markdown",
   "metadata": {
    "id": "_CC8cNpNtcp6"
   },
   "source": [
    "Briefly answer the following questions in the space provided:\n",
    "\n",
    "1. Describe the data that you would need to collect to build a recommendation system to recommend student loan options for students. Explain why this data would be relevant and appropriate.\n",
    "\n",
    "2. Based on the data you chose to use in this recommendation system, would your model be using collaborative filtering, content-based filtering, or context-based filtering? Justify why the data you selected would be suitable for your choice of filtering method.\n",
    "\n",
    "3. Describe two real-world challenges that you would take into consideration while building a recommendation system for student loans. Explain why these challenges would be of concern for a student loan recommendation system."
   ]
  },
  {
   "cell_type": "markdown",
   "metadata": {
    "id": "5KqIT8kYtcp6"
   },
   "source": [
    "**1. Describe the data that you would need to collect to build a recommendation system to recommend student loan options for students. Explain why this data would be relevant and appropriate.**\n",
    "\n",
    "\n",
    "**2. Based on the data you chose to use in this recommendation system, would your model be using collaborative filtering, content-based filtering, or context-based filtering? Justify why the data you selected would be suitable for your choice of filtering method.**\n",
    "\n",
    "\n",
    "**3. Describe two real-world challenges that you would take into consideration while building a recommendation system for student loans. Explain why these challenges would be of concern for a student loan recommendation system.**\n",
    "\n"
   ]
  }
 ],
 "metadata": {
  "colab": {
   "provenance": []
  },
  "kernelspec": {
   "display_name": "Python 3 (ipykernel)",
   "language": "python",
   "name": "python3"
  },
  "language_info": {
   "codemirror_mode": {
    "name": "ipython",
    "version": 3
   },
   "file_extension": ".py",
   "mimetype": "text/x-python",
   "name": "python",
   "nbconvert_exporter": "python",
   "pygments_lexer": "ipython3",
   "version": "3.10.0"
  }
 },
 "nbformat": 4,
 "nbformat_minor": 4
}
